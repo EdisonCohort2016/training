{
 "cells": [
  {
   "cell_type": "markdown",
   "metadata": {},
   "source": [
    "# HTML and CSS Primer\n",
    "\n",
    "## Objectives:\n",
    "\n",
    "- A curated list of many of the most common HTML elements.\n",
    "- A curated list of CSS properties."
   ]
  },
  {
   "cell_type": "markdown",
   "metadata": {},
   "source": [
    "## HTML Elements\n",
    "\n",
    "- html\n",
    "- head\n",
    "- body\n",
    "- title\n",
    "- div\n",
    "- p\n",
    "- img\n",
    "- a\n",
    "- span\n",
    "- strong\n",
    "- em\n",
    "- b\n",
    "- i\n",
    "- ul\n",
    "- li\n",
    "\n",
    "## CSS Properties\n",
    "\n",
    "- background-color\n",
    "- color\n",
    "- font-size\n",
    "- font-family\n",
    "- padding\n",
    "- margin\n",
    "- border\n"
   ]
  },
  {
   "cell_type": "markdown",
   "metadata": {},
   "source": [
    "## About `%%html`\n",
    "\n",
    "At the beginning of each code cell, you'll see the `%%html` directive. This is not HTML, though it serves the purpose of telling the cell to interpret the following lines as HTML."
   ]
  },
  {
   "cell_type": "code",
   "execution_count": 7,
   "metadata": {
    "collapsed": false
   },
   "outputs": [
    {
     "data": {
      "text/html": [
       "<h1>Header 1</h1>\n",
       "<h2>Header 2</h2>\n",
       "<h3>Header 3</h3>\n",
       "<h4>Header 4</h4>\n",
       "<h5>Header 5</h5>\n",
       "<h6>Header 6</h6>"
      ],
      "text/plain": [
       "<IPython.core.display.HTML object>"
      ]
     },
     "metadata": {},
     "output_type": "display_data"
    }
   ],
   "source": [
    "%%html\n",
    "<h1>Header 1</h1>\n",
    "<h2>Header 2</h2>\n",
    "<h3>Header 3</h3>\n",
    "<h4>Header 4</h4>\n",
    "<h5>Header 5</h5>\n",
    "<h6>Header 6</h6>"
   ]
  },
  {
   "cell_type": "code",
   "execution_count": 12,
   "metadata": {
    "collapsed": false
   },
   "outputs": [
    {
     "data": {
      "text/html": [
       "<style>\n",
       "#foo {\n",
       "    background-color: #000;\n",
       "    color: white;\n",
       "    padding: 50px;\n",
       "}\n",
       "</style>\n",
       "<div id=\"foo\">\n",
       "    <h1>Hello World!</h1>\n",
       "    <p>This is an example of a class.</p>\n",
       "</div>"
      ],
      "text/plain": [
       "<IPython.core.display.HTML object>"
      ]
     },
     "metadata": {},
     "output_type": "display_data"
    }
   ],
   "source": [
    "%%html\n",
    "<style>\n",
    "#foo {\n",
    "    background-color: #000;\n",
    "    color: white;\n",
    "    padding: 50px;\n",
    "}\n",
    "</style>\n",
    "<div id=\"foo\">\n",
    "    <h1>Hello World!</h1>\n",
    "    <p>This is an example of a class.</p>\n",
    "</div>"
   ]
  },
  {
   "cell_type": "code",
   "execution_count": 27,
   "metadata": {
    "collapsed": false
   },
   "outputs": [
    {
     "data": {
      "text/html": [
       "<style>\n",
       "    .bigfont {\n",
       "        font-size: 30px;\n",
       "    }\n",
       "    .bluefont {\n",
       "        color: #00f;\n",
       "    }\n",
       "</style>\n",
       "\n",
       "<p class=\"bluefont\">This is using class <em>bluefont</em>.</p>\n",
       "<p class=\"bigfont\">This is using class <em>bigfont</em>.</p>\n",
       "<p class=\"bigfont bluefont\">This is using classes <em>bigfont</em> and <em>bluefont</em>.</p>"
      ],
      "text/plain": [
       "<IPython.core.display.HTML object>"
      ]
     },
     "metadata": {},
     "output_type": "display_data"
    }
   ],
   "source": [
    "%%html\n",
    "<style>\n",
    "    .bigfont {\n",
    "        font-size: 30px;\n",
    "    }\n",
    "    .bluefont {\n",
    "        color: #00f;\n",
    "    }\n",
    "</style>\n",
    "\n",
    "<p class=\"bluefont\">This is using class <em>bluefont</em>.</p>\n",
    "<p class=\"bigfont\">This is using class <em>bigfont</em>.</p>\n",
    "<p class=\"bigfont bluefont\">This is using classes <em>bigfont</em> and <em>bluefont</em>.</p>"
   ]
  },
  {
   "cell_type": "code",
   "execution_count": null,
   "metadata": {
    "collapsed": true
   },
   "outputs": [],
   "source": []
  }
 ],
 "metadata": {
  "kernelspec": {
   "display_name": "IPython (Python 3)",
   "language": "python",
   "name": "python3"
  },
  "language_info": {
   "codemirror_mode": {
    "name": "ipython",
    "version": 3
   },
   "file_extension": ".py",
   "mimetype": "text/x-python",
   "name": "python",
   "nbconvert_exporter": "python",
   "pygments_lexer": "ipython3",
   "version": "3.5.2"
  }
 },
 "nbformat": 4,
 "nbformat_minor": 2
}
